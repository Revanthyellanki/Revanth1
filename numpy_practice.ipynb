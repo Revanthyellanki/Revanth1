{
  "nbformat": 4,
  "nbformat_minor": 0,
  "metadata": {
    "colab": {
      "name": "numpy_practice.ipynb",
      "provenance": [],
      "collapsed_sections": [],
      "include_colab_link": true
    },
    "kernelspec": {
      "name": "python3",
      "display_name": "Python 3"
    },
    "language_info": {
      "name": "python"
    }
  },
  "cells": [
    {
      "cell_type": "markdown",
      "metadata": {
        "id": "view-in-github",
        "colab_type": "text"
      },
      "source": [
        "<a href=\"https://colab.research.google.com/github/Revanthyellanki/Revanth1/blob/main/numpy_practice.ipynb\" target=\"_parent\"><img src=\"https://colab.research.google.com/assets/colab-badge.svg\" alt=\"Open In Colab\"/></a>"
      ]
    },
    {
      "cell_type": "markdown",
      "metadata": {
        "id": "ErpS78MpFeQ2"
      },
      "source": [
        "**AI@Amrita- Session I Introduction to Numpy** "
      ]
    },
    {
      "cell_type": "markdown",
      "metadata": {
        "id": "GQQ-AC0m_-Ln"
      },
      "source": [
        "\n",
        "Numpy Tutorial"
      ]
    },
    {
      "cell_type": "code",
      "metadata": {
        "id": "Ri4BrBqLEitA"
      },
      "source": [
        "import numpy as np"
      ],
      "execution_count": 1,
      "outputs": []
    },
    {
      "cell_type": "markdown",
      "metadata": {
        "id": "5XfGycJ7D939"
      },
      "source": [
        "Simplest way to create an array in Numpy is to use Python List"
      ]
    },
    {
      "cell_type": "code",
      "metadata": {
        "colab": {
          "base_uri": "https://localhost:8080/"
        },
        "id": "s0r9hgkoAECt",
        "outputId": "3030d38f-5910-482b-f5c2-f4fcd2c32325"
      },
      "source": [
        "myPythonList = [1,9,8,3]\n",
        "print(myPythonList)"
      ],
      "execution_count": 2,
      "outputs": [
        {
          "output_type": "stream",
          "text": [
            "[1, 9, 8, 3]\n"
          ],
          "name": "stdout"
        }
      ]
    },
    {
      "cell_type": "markdown",
      "metadata": {
        "id": "F8K-APczES8w"
      },
      "source": [
        "To convert python list to a numpy array by using the object np.array."
      ]
    },
    {
      "cell_type": "code",
      "metadata": {
        "colab": {
          "base_uri": "https://localhost:8080/"
        },
        "id": "nHchYLnGEV_j",
        "outputId": "679001d3-9bb6-4b8d-d7fb-f00729f33de0"
      },
      "source": [
        "numpy_array_from_list = np.array(myPythonList)\n",
        "numpy_array_from_list\n"
      ],
      "execution_count": 3,
      "outputs": [
        {
          "output_type": "execute_result",
          "data": {
            "text/plain": [
              "array([1, 9, 8, 3])"
            ]
          },
          "metadata": {
            "tags": []
          },
          "execution_count": 3
        }
      ]
    },
    {
      "cell_type": "code",
      "metadata": {
        "colab": {
          "base_uri": "https://localhost:8080/"
        },
        "id": "CXItLq82E7gm",
        "outputId": "88fd7271-c4e6-44c5-dbb2-fce60b766f31"
      },
      "source": [
        "a  = np.array([1,9,8,3])\n",
        "print(a)"
      ],
      "execution_count": 4,
      "outputs": [
        {
          "output_type": "stream",
          "text": [
            "[1 9 8 3]\n"
          ],
          "name": "stdout"
        }
      ]
    },
    {
      "cell_type": "code",
      "metadata": {
        "colab": {
          "base_uri": "https://localhost:8080/"
        },
        "id": "HV_GDZRIFGsn",
        "outputId": "6e3c8e62-a4f1-4858-bf9a-bb38dc05537c"
      },
      "source": [
        "x=numpy_array_from_list + 10\n",
        "print(x)"
      ],
      "execution_count": 5,
      "outputs": [
        {
          "output_type": "stream",
          "text": [
            "[11 19 18 13]\n"
          ],
          "name": "stdout"
        }
      ]
    },
    {
      "cell_type": "markdown",
      "metadata": {
        "id": "DVXugl39FPOH"
      },
      "source": [
        "**Shape of Array**\n",
        "You can check the shape of the array with the object shape preceded by the name of the array. In the same way, you can check the type with dtypes."
      ]
    },
    {
      "cell_type": "code",
      "metadata": {
        "colab": {
          "base_uri": "https://localhost:8080/"
        },
        "id": "vIX_VkIxFOlL",
        "outputId": "e580a21a-dc05-4bc6-cb38-5e96b48d7307"
      },
      "source": [
        "a  = np.array([1,2,3])\n",
        "print(a.shape)\n",
        "print(a.dtype)\n",
        "\n"
      ],
      "execution_count": 6,
      "outputs": [
        {
          "output_type": "stream",
          "text": [
            "(3,)\n",
            "int64\n"
          ],
          "name": "stdout"
        }
      ]
    },
    {
      "cell_type": "code",
      "metadata": {
        "colab": {
          "base_uri": "https://localhost:8080/"
        },
        "id": "aob63rDjF26c",
        "outputId": "ac57362f-1b02-46fe-c2f8-f08a8339a356"
      },
      "source": [
        "#### Different type\n",
        "b  = np.array([1.1,2.0,3.2])\n",
        "print(b.dtype)"
      ],
      "execution_count": 7,
      "outputs": [
        {
          "output_type": "stream",
          "text": [
            "float64\n"
          ],
          "name": "stdout"
        }
      ]
    },
    {
      "cell_type": "code",
      "metadata": {
        "colab": {
          "base_uri": "https://localhost:8080/"
        },
        "id": "pWFvj3k2GSlm",
        "outputId": "d6bd5990-c6b8-4efd-c3cf-5e9df525e453"
      },
      "source": [
        "### 2 dimension\n",
        "c = np.array([(1,2,3),\n",
        "              (4,5,6)])\n",
        "print(c)"
      ],
      "execution_count": 8,
      "outputs": [
        {
          "output_type": "stream",
          "text": [
            "[[1 2 3]\n",
            " [4 5 6]]\n"
          ],
          "name": "stdout"
        }
      ]
    },
    {
      "cell_type": "code",
      "metadata": {
        "colab": {
          "base_uri": "https://localhost:8080/"
        },
        "id": "7WMcvQIfpH1L",
        "outputId": "8aabf4f6-f198-4d6b-c9f0-6e4fb597feea"
      },
      "source": [
        "### 3 dimension\n",
        "d = np.array([\n",
        "    [[1, 2,3],\n",
        "        [4, 5, 6]],\n",
        "    [[7, 8,9],\n",
        "        [10, 11, 12]]\n",
        "])\n",
        "print(d.shape)\n",
        "(2, 2, 3)"
      ],
      "execution_count": 9,
      "outputs": [
        {
          "output_type": "stream",
          "text": [
            "(2, 2, 3)\n"
          ],
          "name": "stdout"
        },
        {
          "output_type": "execute_result",
          "data": {
            "text/plain": [
              "(2, 2, 3)"
            ]
          },
          "metadata": {
            "tags": []
          },
          "execution_count": 9
        }
      ]
    },
    {
      "cell_type": "markdown",
      "metadata": {
        "id": "jV-ZHf5zpRcT"
      },
      "source": [
        "**What is numpy.zeros()?**\n",
        "numpy.zeros() or np.zeros Python function is used to create a matrix full of zeroes. numpy.zeros() in Python can be used when you initialize the weights during the first iteration in TensorFlow and other statistic tasks.\n",
        "\n",
        "numpy.zeros(shape, dtype=float, order='C')\n",
        "Here,\n",
        "\n",
        "Shape: is the shape of the numpy zero array\n",
        "Dtype: is the datatype in numpy zeros. It is optional. The default value is float64\n",
        "Order: Default is C which is an essential row style for numpy.zeros() in Python."
      ]
    },
    {
      "cell_type": "code",
      "metadata": {
        "colab": {
          "base_uri": "https://localhost:8080/"
        },
        "id": "KV6ecEdXpdBD",
        "outputId": "7fdd3a50-704a-40ab-fbb1-d0dd85171315"
      },
      "source": [
        "import numpy as np\n",
        "x=np.zeros((2,2), dtype=np.int16)\n",
        "print(x)"
      ],
      "execution_count": 10,
      "outputs": [
        {
          "output_type": "stream",
          "text": [
            "[[0 0]\n",
            " [0 0]]\n"
          ],
          "name": "stdout"
        }
      ]
    },
    {
      "cell_type": "code",
      "metadata": {
        "colab": {
          "base_uri": "https://localhost:8080/"
        },
        "id": "pZWl84ucpwBH",
        "outputId": "37185035-85e1-4c54-e270-29cc77a08773"
      },
      "source": [
        "import numpy as np\n",
        "np.ones((1,2,3), dtype=np.int16)\t"
      ],
      "execution_count": 11,
      "outputs": [
        {
          "output_type": "execute_result",
          "data": {
            "text/plain": [
              "array([[[1, 1, 1],\n",
              "        [1, 1, 1]]], dtype=int16)"
            ]
          },
          "metadata": {
            "tags": []
          },
          "execution_count": 11
        }
      ]
    },
    {
      "cell_type": "markdown",
      "metadata": {
        "id": "7QEmH6syp5iB"
      },
      "source": [
        "**Reshape Data**\n",
        "In some occasions, you need to reshape the data from wide to long. You can use the reshape function for this. The syntax is\n",
        "\n",
        "numpy.reshape(a, newShape, order='C')\n",
        "Here,\n",
        "\n",
        "a: Array that you want to reshape\n",
        "\n",
        "newShape: The new desires shape\n",
        "\n",
        "Order: Default is C which is an essential row style."
      ]
    },
    {
      "cell_type": "code",
      "metadata": {
        "colab": {
          "base_uri": "https://localhost:8080/"
        },
        "id": "z8FcpYGCp9xK",
        "outputId": "350543d3-d648-4730-924f-2b6a58aeac7f"
      },
      "source": [
        "import numpy as np\n",
        "e  = np.array([(1,2,3), (4,5,6)])\n",
        "print(e)\n",
        "e.reshape(3,2)"
      ],
      "execution_count": 12,
      "outputs": [
        {
          "output_type": "stream",
          "text": [
            "[[1 2 3]\n",
            " [4 5 6]]\n"
          ],
          "name": "stdout"
        },
        {
          "output_type": "execute_result",
          "data": {
            "text/plain": [
              "array([[1, 2],\n",
              "       [3, 4],\n",
              "       [5, 6]])"
            ]
          },
          "metadata": {
            "tags": []
          },
          "execution_count": 12
        }
      ]
    },
    {
      "cell_type": "markdown",
      "metadata": {
        "id": "KRokQzMXqCnc"
      },
      "source": [
        "**Flatten Data**\n",
        "When you deal with some neural network like convnet, you need to flatten the array. You can use flatten(). The syntax is\n",
        "\n",
        "numpy.flatten(order='C')\n",
        "Here,\n",
        "\n",
        "Order: Default is C which is an essential row style."
      ]
    },
    {
      "cell_type": "code",
      "metadata": {
        "colab": {
          "base_uri": "https://localhost:8080/"
        },
        "id": "9nyOD_QBqEWe",
        "outputId": "42cd1a69-7f90-4136-eecc-08d75dcf13b0"
      },
      "source": [
        "e.flatten()\n"
      ],
      "execution_count": 13,
      "outputs": [
        {
          "output_type": "execute_result",
          "data": {
            "text/plain": [
              "array([1, 2, 3, 4, 5, 6])"
            ]
          },
          "metadata": {
            "tags": []
          },
          "execution_count": 13
        }
      ]
    },
    {
      "cell_type": "markdown",
      "metadata": {
        "id": "oJd2Af_Oqdn2"
      },
      "source": [
        "**What is hstack?**\n",
        "With hstack you can appened data horizontally. This is a very convenient function in Numpy"
      ]
    },
    {
      "cell_type": "code",
      "metadata": {
        "colab": {
          "base_uri": "https://localhost:8080/"
        },
        "id": "U08sJwSyqpxQ",
        "outputId": "0ca014e6-20a5-4527-9c70-76b952c9c6d1"
      },
      "source": [
        "## Horitzontal Stack\n",
        "import numpy as np\n",
        "f = np.array([1,2,3])\n",
        "g = np.array([4,5,6])\n",
        "\n",
        "print('Horizontal Append:', np.hstack((f, g)))"
      ],
      "execution_count": 14,
      "outputs": [
        {
          "output_type": "stream",
          "text": [
            "Horizontal Append: [1 2 3 4 5 6]\n"
          ],
          "name": "stdout"
        }
      ]
    },
    {
      "cell_type": "code",
      "metadata": {
        "id": "dePMReS4qtrt"
      },
      "source": [
        ""
      ],
      "execution_count": null,
      "outputs": []
    },
    {
      "cell_type": "markdown",
      "metadata": {
        "id": "-IDQvqhjquAA"
      },
      "source": [
        "**What is vstack?**\n",
        "With vstack you can appened data vertically. Lets study it with an example:"
      ]
    },
    {
      "cell_type": "code",
      "metadata": {
        "colab": {
          "base_uri": "https://localhost:8080/"
        },
        "id": "KSYNJGBSq0p6",
        "outputId": "571ad85c-1b1a-459c-a5d2-e98978c7ba8b"
      },
      "source": [
        "## Vertical Stack\n",
        "import numpy as np\n",
        "f = np.array([1,2,3])\n",
        "g = np.array([4,5,6])\n",
        "\n",
        "print('Vertical Append:', np.vstack((f, g)))"
      ],
      "execution_count": 15,
      "outputs": [
        {
          "output_type": "stream",
          "text": [
            "Vertical Append: [[1 2 3]\n",
            " [4 5 6]]\n"
          ],
          "name": "stdout"
        }
      ]
    },
    {
      "cell_type": "markdown",
      "metadata": {
        "id": "FO4bp6B3q4Bj"
      },
      "source": [
        "**Generate Random Numbers**\n",
        "To generate random numbers for Gaussian distribution use\n",
        "\n",
        "numpy.random.normal(loc, scale, size)\n",
        "\n",
        "Here\n",
        "\n",
        "Loc: the mean. The center of distribution\n",
        "scale: standard deviation.\n",
        "Size: number of returns"
      ]
    },
    {
      "cell_type": "code",
      "metadata": {
        "colab": {
          "base_uri": "https://localhost:8080/"
        },
        "id": "B9A9uPHZq79n",
        "outputId": "f1331be5-44de-4e55-9f08-24a160ad9bfb"
      },
      "source": [
        "## Generate random nmber from normal distribution\n",
        "normal_array = np.random.normal(5, 0.5, 10)\n",
        "print(normal_array)\t\t\t\n"
      ],
      "execution_count": 16,
      "outputs": [
        {
          "output_type": "stream",
          "text": [
            "[4.87322074 5.35316113 5.30894603 5.15874129 6.01986617 4.93153195\n",
            " 4.34777493 4.6548039  5.82324728 4.90783055]\n"
          ],
          "name": "stdout"
        }
      ]
    },
    {
      "cell_type": "markdown",
      "metadata": {
        "id": "BWhpH68GrIoz"
      },
      "source": [
        "**Asarray**\n",
        "The asarray()function is used when you want to convert an input to an array. The input could be a lists, tuple, ndarray, etc.\n",
        "\n",
        "Syntax:\n",
        "\n",
        "numpy.asarray(data, dtype=None, order=None)[source]\n",
        "Here,\n",
        "\n",
        "data: Data that you want to convert to an array\n",
        "\n",
        "dtype: This is an optional argument. If not specified, the data type is inferred from the input data\n",
        "\n",
        "Order: Default is C which is an essential row style. Other option is F (Fortan-style)"
      ]
    },
    {
      "cell_type": "code",
      "metadata": {
        "id": "obE-VUp6rKdg"
      },
      "source": [
        ""
      ],
      "execution_count": null,
      "outputs": []
    },
    {
      "cell_type": "code",
      "metadata": {
        "colab": {
          "base_uri": "https://localhost:8080/"
        },
        "id": "hm7s7qGcrcl9",
        "outputId": "2ab59cc9-6116-41a0-c061-54e6b6a6a067"
      },
      "source": [
        "A = np.matrix(np.ones((4,4)))\t\t\n",
        "np.array(A)[2]=2  #immutable\n",
        "print(A)"
      ],
      "execution_count": 17,
      "outputs": [
        {
          "output_type": "stream",
          "text": [
            "[[1. 1. 1. 1.]\n",
            " [1. 1. 1. 1.]\n",
            " [1. 1. 1. 1.]\n",
            " [1. 1. 1. 1.]]\n"
          ],
          "name": "stdout"
        }
      ]
    },
    {
      "cell_type": "code",
      "metadata": {
        "colab": {
          "base_uri": "https://localhost:8080/"
        },
        "id": "QjQypdTirp18",
        "outputId": "e289f47e-5b91-4891-ae4d-c8179bfc12d5"
      },
      "source": [
        "np.asarray(A)[2]=2\n",
        "print(A)"
      ],
      "execution_count": 18,
      "outputs": [
        {
          "output_type": "stream",
          "text": [
            "[[1. 1. 1. 1.]\n",
            " [1. 1. 1. 1.]\n",
            " [2. 2. 2. 2.]\n",
            " [1. 1. 1. 1.]]\n"
          ],
          "name": "stdout"
        }
      ]
    },
    {
      "cell_type": "markdown",
      "metadata": {
        "id": "deVPxpatr1jm"
      },
      "source": [
        "**What is numpy.arange()?**\n",
        "numpy.arange() is an inbuilt numpy function that returns an ndarray object containing evenly spaced values within a defined interval. For instance, you want to create values from 1 to 10; you can use numpy.arange() function.\n",
        "\n",
        "Syntax:\n",
        "\n",
        "numpy.arange(start, stop,step) \n",
        "Start: Start of interval\n",
        "Stop: End of interval\n",
        "Step: Spacing between values. Default step is 1"
      ]
    },
    {
      "cell_type": "code",
      "metadata": {
        "colab": {
          "base_uri": "https://localhost:8080/"
        },
        "id": "TYe1UtmZr4To",
        "outputId": "01ce4e6d-8a98-426c-dacf-2f90389c80f0"
      },
      "source": [
        "\n",
        "np.arange(1, 11)\t"
      ],
      "execution_count": 19,
      "outputs": [
        {
          "output_type": "execute_result",
          "data": {
            "text/plain": [
              "array([ 1,  2,  3,  4,  5,  6,  7,  8,  9, 10])"
            ]
          },
          "metadata": {
            "tags": []
          },
          "execution_count": 19
        }
      ]
    },
    {
      "cell_type": "code",
      "metadata": {
        "colab": {
          "base_uri": "https://localhost:8080/"
        },
        "id": "W4p37uIrsGfB",
        "outputId": "0bc74023-1e20-4cd7-8d77-425034ea13f0"
      },
      "source": [
        "\n",
        "np.arange(1, 14, 4)\t"
      ],
      "execution_count": 20,
      "outputs": [
        {
          "output_type": "execute_result",
          "data": {
            "text/plain": [
              "array([ 1,  5,  9, 13])"
            ]
          },
          "metadata": {
            "tags": []
          },
          "execution_count": 20
        }
      ]
    },
    {
      "cell_type": "markdown",
      "metadata": {
        "id": "r86t9PqFsPJP"
      },
      "source": [
        "**Linspace**\n",
        "Linspace gives evenly spaced samples.\n",
        "\n",
        "Syntax:\n",
        "\n",
        "numpy.linspace(start, stop, num, endpoint)\n",
        "Here,\n",
        "\n",
        "Start: Starting value of the sequence\n",
        "Stop: End value of the sequence\n",
        "Num: Number of samples to generate. Default is 50\n",
        "Endpoint: If True (default), stop is the last value. If False, stop value is not included."
      ]
    },
    {
      "cell_type": "code",
      "metadata": {
        "colab": {
          "base_uri": "https://localhost:8080/"
        },
        "id": "C8ILv5P9sRR7",
        "outputId": "ed787c1e-0fac-4529-b495-12eadf032184"
      },
      "source": [
        "import numpy as np\n",
        "np.linspace(1.0, 10.0, num=20)\n"
      ],
      "execution_count": 21,
      "outputs": [
        {
          "output_type": "execute_result",
          "data": {
            "text/plain": [
              "array([ 1.        ,  1.47368421,  1.94736842,  2.42105263,  2.89473684,\n",
              "        3.36842105,  3.84210526,  4.31578947,  4.78947368,  5.26315789,\n",
              "        5.73684211,  6.21052632,  6.68421053,  7.15789474,  7.63157895,\n",
              "        8.10526316,  8.57894737,  9.05263158,  9.52631579, 10.        ])"
            ]
          },
          "metadata": {
            "tags": []
          },
          "execution_count": 21
        }
      ]
    },
    {
      "cell_type": "code",
      "metadata": {
        "colab": {
          "base_uri": "https://localhost:8080/"
        },
        "id": "6KJqfEHYtQis",
        "outputId": "84568d19-1284-4835-dd85-25b8d105fe55"
      },
      "source": [
        "np.linspace(1.0, 5.0, num=5, endpoint=False)"
      ],
      "execution_count": 22,
      "outputs": [
        {
          "output_type": "execute_result",
          "data": {
            "text/plain": [
              "array([1. , 1.8, 2.6, 3.4, 4.2])"
            ]
          },
          "metadata": {
            "tags": []
          },
          "execution_count": 22
        }
      ]
    },
    {
      "cell_type": "markdown",
      "metadata": {
        "id": "gkmzAuautW8H"
      },
      "source": [
        "**LogSpace**\n",
        "LogSpace returns even spaced numbers on a log scale. Logspace has the same parameters as np.linspace.\n",
        "\n",
        "Syntax:\n",
        "\n",
        "numpy.logspace(start, stop, num, endpoint)"
      ]
    },
    {
      "cell_type": "code",
      "metadata": {
        "colab": {
          "base_uri": "https://localhost:8080/"
        },
        "id": "17p0A020tZiu",
        "outputId": "5566c085-d73b-406c-880f-afb4ec3ecf29"
      },
      "source": [
        "np.logspace(3.0, 4.0, num=4)"
      ],
      "execution_count": 23,
      "outputs": [
        {
          "output_type": "execute_result",
          "data": {
            "text/plain": [
              "array([ 1000.        ,  2154.43469003,  4641.58883361, 10000.        ])"
            ]
          },
          "metadata": {
            "tags": []
          },
          "execution_count": 23
        }
      ]
    },
    {
      "cell_type": "code",
      "metadata": {
        "colab": {
          "base_uri": "https://localhost:8080/"
        },
        "id": "i5saa5jitf5m",
        "outputId": "ebce129e-4382-4d37-e758-9f45ba731ecd"
      },
      "source": [
        "x = np.array([1,2,3], dtype=np.complex128)\n",
        "x.itemsize\t"
      ],
      "execution_count": 24,
      "outputs": [
        {
          "output_type": "execute_result",
          "data": {
            "text/plain": [
              "16"
            ]
          },
          "metadata": {
            "tags": []
          },
          "execution_count": 24
        }
      ]
    },
    {
      "cell_type": "markdown",
      "metadata": {
        "id": "qT844qHrtncY"
      },
      "source": [
        "Indexing and slicing\n",
        "Slicing data is trivial with numpy. We will slice the matrice \"e\". Note that, in Python, you need to use the brackets to return the rows or columns"
      ]
    },
    {
      "cell_type": "code",
      "metadata": {
        "colab": {
          "base_uri": "https://localhost:8080/"
        },
        "id": "jjxSVcvot3YO",
        "outputId": "a3e0cb7c-97dd-4b1b-f243-c7fe1a37ce45"
      },
      "source": [
        "## Slice\n",
        "import numpy as np\n",
        "e  = np.array([(1,2,3), (4,5,6)])\n",
        "print(e)\n"
      ],
      "execution_count": 25,
      "outputs": [
        {
          "output_type": "stream",
          "text": [
            "[[1 2 3]\n",
            " [4 5 6]]\n"
          ],
          "name": "stdout"
        }
      ]
    },
    {
      "cell_type": "code",
      "metadata": {
        "colab": {
          "base_uri": "https://localhost:8080/"
        },
        "id": "5Dyuqyegt_HF",
        "outputId": "0aa5b36f-f63a-4efd-d8a2-0aa6bf7762c3"
      },
      "source": [
        "## First column\n",
        "print('First row:', e[0])\n",
        "\n",
        "## Second col\n",
        "print('Second row:', e[1])"
      ],
      "execution_count": 26,
      "outputs": [
        {
          "output_type": "stream",
          "text": [
            "First row: [1 2 3]\n",
            "Second row: [4 5 6]\n"
          ],
          "name": "stdout"
        }
      ]
    },
    {
      "cell_type": "code",
      "metadata": {
        "colab": {
          "base_uri": "https://localhost:8080/"
        },
        "id": "k2TKgo7QuG22",
        "outputId": "436fa363-9fcb-4b8f-9580-45d05fd5a925"
      },
      "source": [
        "print('Second column:', e[:,1])\t"
      ],
      "execution_count": 27,
      "outputs": [
        {
          "output_type": "stream",
          "text": [
            "Second column: [2 5]\n"
          ],
          "name": "stdout"
        }
      ]
    },
    {
      "cell_type": "code",
      "metadata": {
        "colab": {
          "base_uri": "https://localhost:8080/"
        },
        "id": "I-KS7M8juKhA",
        "outputId": "f6f95fad-61c5-41a3-9dfd-c4dec9522ed0"
      },
      "source": [
        "## Second Row, two values\n",
        "print(e[1, :2])"
      ],
      "execution_count": 28,
      "outputs": [
        {
          "output_type": "stream",
          "text": [
            "[4 5]\n"
          ],
          "name": "stdout"
        }
      ]
    },
    {
      "cell_type": "markdown",
      "metadata": {
        "id": "jAxn-iX8uVgo"
      },
      "source": [
        "NumPy has quite a few useful statistical functions for finding minimum, maximum, percentile standard deviation and variance, etc from the given elements in the array. The functions are explained as follows −\n",
        "\n",
        "Statistical function\n",
        "Numpy is equipped with the robust statistical function as listed below\n",
        "\n",
        "Function\tNumpy\n",
        "Min\tnp.min()\n",
        "Max\tnp.max()\n",
        "Mean\tnp.mean()\n",
        "Median\tnp.median()\n",
        "Standard deviation\tnp.std()"
      ]
    },
    {
      "cell_type": "code",
      "metadata": {
        "colab": {
          "base_uri": "https://localhost:8080/"
        },
        "id": "vsl3OjrPuWnu",
        "outputId": "71f66a62-f553-4a72-9722-8779b8161c7a"
      },
      "source": [
        "import numpy as np\n",
        "normal_array = np.random.normal(5, 0.5, 10)\n",
        "print(normal_array)\t"
      ],
      "execution_count": 29,
      "outputs": [
        {
          "output_type": "stream",
          "text": [
            "[5.13664565 3.89051008 4.20620236 4.59639647 4.90810081 5.37432526\n",
            " 5.22229193 5.60113374 4.53498332 5.66422421]\n"
          ],
          "name": "stdout"
        }
      ]
    },
    {
      "cell_type": "code",
      "metadata": {
        "colab": {
          "base_uri": "https://localhost:8080/"
        },
        "id": "5oHHPgDUuccq",
        "outputId": "44b6b830-f967-43f0-8edb-8739af54b925"
      },
      "source": [
        "### Min \n",
        "print(np.min(normal_array))\n",
        "\n",
        "### Max \n",
        "print(np.max(normal_array))\n",
        "\n",
        "### Mean \n",
        "print(np.mean(normal_array))\n",
        "\n",
        "### Median\n",
        "print(np.median(normal_array))\n",
        "\n",
        "### Sd\n",
        "print(np.std(normal_array))"
      ],
      "execution_count": 30,
      "outputs": [
        {
          "output_type": "stream",
          "text": [
            "3.8905100830175128\n",
            "5.664224214562306\n",
            "4.913481383714456\n",
            "5.022373228647208\n",
            "0.5643199757995557\n"
          ],
          "name": "stdout"
        }
      ]
    },
    {
      "cell_type": "markdown",
      "metadata": {
        "id": "7r_b-Spyujkn"
      },
      "source": [
        "**What is numpy dot product?**\n",
        "Numpy.dot product is a powerful library for matrix computation. For instance, you can compute the dot product with np.dot. Numpy.dot product is the dot product of a and b. numpy.dot() in Python handles the 2D arrays and perform matrix multiplications.\n",
        "\n",
        "Syntax\n",
        "\n",
        "numpy.dot(x, y, out=None)\n",
        "Parameters\n",
        "\n",
        "Here,\n",
        "\n",
        "x,y: Input arrays. x and y both should be 1-D or 2-D for the np.dot() function to work\n",
        "\n",
        "out: This is the output argument for 1-D array scalar to be returned. Otherwise ndarray should be returned.\n",
        "\n",
        "Returns\n",
        "\n",
        "The function numpy.dot() in Python returns a Dot product of two arrays x and y. The dot() function returns a scalar if both x and y are 1-D; otherwise, it returns an array. If 'out' is given then it is returned.\n",
        "\n",
        "Raises\n",
        "\n",
        "Dot product in Python raises a ValueError exception if the last dimension of x does not have the same size as the second last dimension of y."
      ]
    },
    {
      "cell_type": "code",
      "metadata": {
        "colab": {
          "base_uri": "https://localhost:8080/"
        },
        "id": "VHCn0I0tupJY",
        "outputId": "0891c856-34b7-4908-f215-232e1100d113"
      },
      "source": [
        "## Linear algebra\n",
        "### Dot product: product of two arrays\n",
        "f = np.array([1,2])\n",
        "g = np.array([4,5])\n",
        "### 1*4+2*5\n",
        "np.dot(f, g)"
      ],
      "execution_count": 31,
      "outputs": [
        {
          "output_type": "execute_result",
          "data": {
            "text/plain": [
              "14"
            ]
          },
          "metadata": {
            "tags": []
          },
          "execution_count": 31
        }
      ]
    },
    {
      "cell_type": "markdown",
      "metadata": {
        "id": "ClzxYsb5uzXm"
      },
      "source": [
        "**Matrix Multiplication**\n",
        "The Numpu matmul() function is used to return the matrix product of 2 arrays. Here is how it works\n",
        "\n",
        "1) 2-D arrays, it returns normal product\n",
        "\n",
        "2) Dimensions > 2, the product is treated as a stack of matrix\n",
        "\n",
        "3) 1-D array is first promoted to a matrix, and then the product is calculated\n",
        "\n",
        "numpy.matmul(x, y, out=None)\n",
        "Here,\n",
        "\n",
        "x,y: Input arrays. scalars not allowed"
      ]
    },
    {
      "cell_type": "code",
      "metadata": {
        "colab": {
          "base_uri": "https://localhost:8080/"
        },
        "id": "ihmwbkbgu1CP",
        "outputId": "fba3c83d-4671-4ac9-ddb0-118108050380"
      },
      "source": [
        "### Matmul: matruc product of two arrays\n",
        "h = [[1,2],[3,4]] \n",
        "i = [[5,6],[7,8]] \n",
        "### 1*5+2*7 = 19\n",
        "np.matmul(h, i)"
      ],
      "execution_count": 32,
      "outputs": [
        {
          "output_type": "execute_result",
          "data": {
            "text/plain": [
              "array([[19, 22],\n",
              "       [43, 50]])"
            ]
          },
          "metadata": {
            "tags": []
          },
          "execution_count": 32
        }
      ]
    },
    {
      "cell_type": "markdown",
      "metadata": {
        "id": "EFqn9kWDwjMh"
      },
      "source": [
        "**How to inverse a matrix using NumPy**"
      ]
    },
    {
      "cell_type": "code",
      "metadata": {
        "colab": {
          "base_uri": "https://localhost:8080/"
        },
        "id": "iqw-Hb4EvjXQ",
        "outputId": "74eb5cad-6fdf-4838-c4fb-39645aa99b08"
      },
      "source": [
        "# Taking a 3 * 3 matrix\n",
        "A = np.array([[6, 1, 1],\n",
        "              [4, -2, 5],\n",
        "              [2, 8, 7]])\n",
        "  \n",
        "# Calculating the inverse of the matrix\n",
        "print(np.linalg.inv(A))"
      ],
      "execution_count": 33,
      "outputs": [
        {
          "output_type": "stream",
          "text": [
            "[[ 0.17647059 -0.00326797 -0.02287582]\n",
            " [ 0.05882353 -0.13071895  0.08496732]\n",
            " [-0.11764706  0.1503268   0.05228758]]\n"
          ],
          "name": "stdout"
        }
      ]
    },
    {
      "cell_type": "markdown",
      "metadata": {
        "id": "O9pAABVewzQp"
      },
      "source": [
        "**How to Calculate the determinant of a matrix using NumPy?**"
      ]
    },
    {
      "cell_type": "code",
      "metadata": {
        "colab": {
          "base_uri": "https://localhost:8080/"
        },
        "id": "ftQjBvpAwvg0",
        "outputId": "b564583f-aa54-478c-a0d1-139db90ee5ca"
      },
      "source": [
        "# creating a 2X2 Numpy matrix\n",
        "n_array = np.array([[50, 29], [30, 44]])\n",
        "  \n",
        "# Displaying the Matrix\n",
        "print(\"Numpy Matrix is:\")\n",
        "print(n_array)\n",
        "  \n",
        "# calculating the determinant of matrix\n",
        "det = np.linalg.det(n_array)\n",
        "  \n",
        "print(\"\\nDeterminant of given 2X2 matrix:\")\n",
        "print(int(det))"
      ],
      "execution_count": 34,
      "outputs": [
        {
          "output_type": "stream",
          "text": [
            "Numpy Matrix is:\n",
            "[[50 29]\n",
            " [30 44]]\n",
            "\n",
            "Determinant of given 2X2 matrix:\n",
            "1330\n"
          ],
          "name": "stdout"
        }
      ]
    },
    {
      "cell_type": "markdown",
      "metadata": {
        "id": "DG0tbvYxxGlt"
      },
      "source": [
        "**Rank of a Matrix**"
      ]
    },
    {
      "cell_type": "code",
      "metadata": {
        "id": "poidrwlZxbby"
      },
      "source": [
        ""
      ],
      "execution_count": null,
      "outputs": []
    },
    {
      "cell_type": "code",
      "metadata": {
        "colab": {
          "base_uri": "https://localhost:8080/"
        },
        "id": "eiYWtB5dxCy6",
        "outputId": "be73f677-3c6b-4390-9917-79c3164cc358"
      },
      "source": [
        "# Let's create a square matrix (NxN matrix)\n",
        "mx = np.array([[1,1,1],[0,1,2],[1,5,3]])\n",
        "\n",
        "# Let's get rank of matrix \n",
        "np.linalg.matrix_rank(mx)"
      ],
      "execution_count": 35,
      "outputs": [
        {
          "output_type": "execute_result",
          "data": {
            "text/plain": [
              "3"
            ]
          },
          "metadata": {
            "tags": []
          },
          "execution_count": 35
        }
      ]
    },
    {
      "cell_type": "markdown",
      "metadata": {
        "id": "82vchGz_xuy-"
      },
      "source": [
        "**How To Calculate Eigenvectors And Eigenvalues With Numpy**"
      ]
    },
    {
      "cell_type": "code",
      "metadata": {
        "colab": {
          "base_uri": "https://localhost:8080/"
        },
        "id": "BnGCJDFEwxb_",
        "outputId": "436d7ae6-7f70-48b1-9b7b-f9f82848f3f3"
      },
      "source": [
        "example_matrix = np.array([\n",
        "  [1,2,3,4],\n",
        "  [5,6,7,8],\n",
        "  [9,10,11,12],\n",
        "  [13,14,15,16]\n",
        "])\n",
        "eigenvalues, eigenvectors = np.linalg.eig(example_matrix)\n",
        "print(eigenvalues, eigenvectors)"
      ],
      "execution_count": 36,
      "outputs": [
        {
          "output_type": "stream",
          "text": [
            "[ 3.62093727e+01 -2.20937271e+00 -5.14138333e-16 -2.08943529e-15] [[-0.15115432 -0.72704996  0.01790738 -0.26832672]\n",
            " [-0.34923733 -0.28320876  0.38415354  0.71367217]\n",
            " [-0.54732033  0.16063243 -0.82202921 -0.62236419]\n",
            " [-0.74540333  0.60447363  0.41996829  0.17701873]]\n"
          ],
          "name": "stdout"
        }
      ]
    },
    {
      "cell_type": "markdown",
      "metadata": {
        "id": "afIX2fXuyeeE"
      },
      "source": [
        "**Get diagonal of a matrix**"
      ]
    },
    {
      "cell_type": "code",
      "metadata": {
        "colab": {
          "base_uri": "https://localhost:8080/"
        },
        "id": "zv0z5B2QyCv3",
        "outputId": "67c08235-d96a-4713-e4ec-c3ef4e7d95bb"
      },
      "source": [
        "# make matrix with numpy\n",
        "gfg = np.matrix('[6, 2; 3, 4]')\n",
        "         \n",
        "# applying matrix.diagonal() method\n",
        "diag = gfg.diagonal()\n",
        "   \n",
        "print(diag)"
      ],
      "execution_count": 37,
      "outputs": [
        {
          "output_type": "stream",
          "text": [
            "[[6 4]]\n"
          ],
          "name": "stdout"
        }
      ]
    },
    {
      "cell_type": "markdown",
      "metadata": {
        "id": "_yazSJzbyaDK"
      },
      "source": [
        "**Matrix transpose**"
      ]
    },
    {
      "cell_type": "code",
      "metadata": {
        "colab": {
          "base_uri": "https://localhost:8080/"
        },
        "id": "layBADs4yVK-",
        "outputId": "9ae2f322-9c65-4000-b553-aa171a14da39"
      },
      "source": [
        "# make matrix with numpy\n",
        "gfg = np.matrix('[4, 1; 12, 3]')\n",
        "              \n",
        "# applying matrix.transpose() method\n",
        "trans = gfg.transpose()\n",
        "    \n",
        "print(trans)"
      ],
      "execution_count": 38,
      "outputs": [
        {
          "output_type": "stream",
          "text": [
            "[[ 4 12]\n",
            " [ 1  3]]\n"
          ],
          "name": "stdout"
        }
      ]
    },
    {
      "cell_type": "markdown",
      "metadata": {
        "id": "NwkQwo6Hy5lW"
      },
      "source": [
        "**Trace of a matrix**"
      ]
    },
    {
      "cell_type": "code",
      "metadata": {
        "colab": {
          "base_uri": "https://localhost:8080/"
        },
        "id": "LO_awAipy0J2",
        "outputId": "ef2a7042-7ce0-4430-9423-d406cc0f23d2"
      },
      "source": [
        "# make matrix with numpy\n",
        "gfg = np.matrix('[4, 1; 12, 3]')\n",
        "              \n",
        "# applying matrix.trace() method\n",
        "tracem = gfg.trace()\n",
        "    \n",
        "print(tracem)"
      ],
      "execution_count": 39,
      "outputs": [
        {
          "output_type": "stream",
          "text": [
            "[[7]]\n"
          ],
          "name": "stdout"
        }
      ]
    }
  ]
}